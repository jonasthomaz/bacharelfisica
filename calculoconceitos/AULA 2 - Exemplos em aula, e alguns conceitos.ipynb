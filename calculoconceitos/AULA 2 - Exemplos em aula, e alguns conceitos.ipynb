{
 "cells": [
  {
   "cell_type": "code",
   "execution_count": 128,
   "metadata": {},
   "outputs": [],
   "source": [
    "\"\"\"\n",
    "    Sympy é a lib oara calculas não conhece? https://www.sympy.org/en/index.html\n",
    "    Como vamos usar muitas equações abaixo um exemplo de como usar latex no jupyter\n",
    "\"\"\"\n",
    "from sympy import *"
   ]
  },
  {
   "cell_type": "code",
   "execution_count": 102,
   "metadata": {},
   "outputs": [
    {
     "data": {
      "text/latex": [
       "\\begin{align}\n",
       "x^2+5\n",
       "\\end{align}\n"
      ],
      "text/plain": [
       "<IPython.core.display.Latex object>"
      ]
     },
     "metadata": {},
     "output_type": "display_data"
    }
   ],
   "source": [
    "%%latex\n",
    "\\begin{align}\n",
    "x^2+5\n",
    "\\end{align}"
   ]
  },
  {
   "cell_type": "code",
   "execution_count": 53,
   "metadata": {},
   "outputs": [
    {
     "data": {
      "text/latex": [
       "Resolvendo equações de primeiro grau\n",
       "\n",
       "Forma geração da equação do 1º Grau:\n",
       "\\begin{align}\n",
       "a.x+b=0\n",
       "\\end{align}\n",
       "com a e b ∈ R\n"
      ],
      "text/plain": [
       "<IPython.core.display.Latex object>"
      ]
     },
     "metadata": {},
     "output_type": "display_data"
    }
   ],
   "source": [
    "%%latex\n",
    "Resolvendo equações de primeiro grau\n",
    "\n",
    "Forma geração da equação do 1º Grau:\n",
    "\\begin{align}\n",
    "a.x+b=0\n",
    "\\end{align}\n",
    "com a e b ∈ R e a diferente de 0"
   ]
  },
  {
   "cell_type": "code",
   "execution_count": 99,
   "metadata": {},
   "outputs": [
    {
     "name": "stdout",
     "output_type": "stream",
     "text": [
      "[4]\n"
     ]
    }
   ],
   "source": [
    "# resolvendo uma equações de primeiro grau\n",
    "x = Symbol('x')\n",
    "r = solve(Eq(2*x,8),x)\n",
    "print(r)"
   ]
  },
  {
   "cell_type": "code",
   "execution_count": 100,
   "metadata": {},
   "outputs": [
    {
     "name": "stdout",
     "output_type": "stream",
     "text": [
      "[4]\n"
     ]
    }
   ],
   "source": [
    "x = Symbol('x')\n",
    "r = solve(Eq(20+30*x,140),x)\n",
    "print(r)"
   ]
  },
  {
   "cell_type": "code",
   "execution_count": 103,
   "metadata": {},
   "outputs": [
    {
     "name": "stdout",
     "output_type": "stream",
     "text": [
      "[-27]\n"
     ]
    }
   ],
   "source": [
    "x = Symbol('x')\n",
    "r = solve(Eq(5*(x-3),6*x+12),x)\n",
    "print(r)"
   ]
  },
  {
   "cell_type": "code",
   "execution_count": 107,
   "metadata": {},
   "outputs": [
    {
     "name": "stdout",
     "output_type": "stream",
     "text": [
      "[-2.14285714285714]\n"
     ]
    }
   ],
   "source": [
    "x = Symbol('x')\n",
    "r = solve(Eq(x/5-x/3,2/7),x)\n",
    "print(r)"
   ]
  },
  {
   "cell_type": "code",
   "execution_count": 113,
   "metadata": {},
   "outputs": [
    {
     "data": {
      "text/latex": [
       "Resolvendo equações de segundo grau\n",
       "\n",
       "Forma geração da equação do 2º Grau:\n",
       "\\begin{align}\n",
       "a.x^2+b*x+c=0\n",
       "\\end{align}\n",
       "com a e b ∈ R e a diferente de 0, sendo que o objetivo aqui é encontrar as raizes das equações:\n"
      ],
      "text/plain": [
       "<IPython.core.display.Latex object>"
      ]
     },
     "metadata": {},
     "output_type": "display_data"
    }
   ],
   "source": [
    "%%latex\n",
    "Resolvendo equações de segundo grau\n",
    "\n",
    "Forma geração da equação do 2º Grau:\n",
    "\\begin{align}\n",
    "a.x^2+b*x+c=0\n",
    "\\end{align}\n",
    "com a e b ∈ R e a diferente de 0, sendo que o objetivo aqui é encontrar as raizes das equações:"
   ]
  },
  {
   "cell_type": "code",
   "execution_count": 114,
   "metadata": {},
   "outputs": [
    {
     "name": "stdout",
     "output_type": "stream",
     "text": [
      "[-3/2, 0]\n"
     ]
    }
   ],
   "source": [
    "x = Symbol('x')\n",
    "r = solve(Eq(2*x**2+3*x,0),x)\n",
    "print(r)"
   ]
  },
  {
   "cell_type": "code",
   "execution_count": 119,
   "metadata": {},
   "outputs": [
    {
     "name": "stdout",
     "output_type": "stream",
     "text": [
      "{x: -3/10 - sqrt(131)*I/10}\n",
      "{x: -3/10 + sqrt(131)*I/10}\n"
     ]
    }
   ],
   "source": [
    "x = Symbol('x')\n",
    "r = solve(Eq(5*x**2+3*x+7,0),x, dict=True) # Aqui a gente consegue isolar os valores da equação\n",
    "print(r[0])\n",
    "print(r[1])"
   ]
  },
  {
   "cell_type": "code",
   "execution_count": 124,
   "metadata": {},
   "outputs": [
    {
     "name": "stdout",
     "output_type": "stream",
     "text": [
      "[-5, 5]\n"
     ]
    }
   ],
   "source": [
    "\"\"\"\n",
    "    Equações do segundo grau com b=0\n",
    "    Basta isolar c pós o euaql e passar +- \n",
    "    raiz do numero invertido pelo sinal\n",
    "\"\"\"\n",
    "x = Symbol('x')\n",
    "r = solve(Eq(x**2-25,0),x)\n",
    "print(r)"
   ]
  },
  {
   "cell_type": "code",
   "execution_count": 126,
   "metadata": {},
   "outputs": [
    {
     "name": "stdout",
     "output_type": "stream",
     "text": [
      "[-3, 0]\n"
     ]
    }
   ],
   "source": [
    "\"\"\"\n",
    "    Equações do segundo grau com c=0\n",
    "    Uma das opções é colocar o x em evidência, \n",
    "    fatorando o termo.\n",
    "\"\"\"\n",
    "x = Symbol('x')\n",
    "r = solve(Eq(x**2+3*x,0),x)\n",
    "print(r)\n",
    "\"\"\"\n",
    "    Como a multiplicação chega de 0, um dos fatores tem que ser igual a 0.\n",
    "\"\"\""
   ]
  },
  {
   "cell_type": "code",
   "execution_count": 127,
   "metadata": {},
   "outputs": [
    {
     "name": "stdout",
     "output_type": "stream",
     "text": [
      "[2, 3]\n"
     ]
    }
   ],
   "source": [
    "x = Symbol('x')\n",
    "r = solve(Eq(4*x**2-20*x+24,0),x)\n",
    "print(r)"
   ]
  },
  {
   "cell_type": "code",
   "execution_count": 144,
   "metadata": {},
   "outputs": [
    {
     "name": "stdout",
     "output_type": "stream",
     "text": [
      "(4 <= x) & (x < oo)\n"
     ]
    }
   ],
   "source": [
    "\"\"\"\n",
    "    Resolvendo inequações\n",
    "\"\"\"\n",
    "from sympy import Poly\n",
    "from sympy.solvers.inequalities import reduce_inequalities\n",
    "\n",
    "r=reduce_inequalities(3*(x+7)<=5*x+13,[x])\n",
    "print(r)"
   ]
  },
  {
   "cell_type": "code",
   "execution_count": 148,
   "metadata": {},
   "outputs": [
    {
     "ename": "SyntaxError",
     "evalue": "keyword can't be an expression (<ipython-input-148-afb97ddb5bd0>, line 6)",
     "output_type": "error",
     "traceback": [
      "\u001b[0;36m  File \u001b[0;32m\"<ipython-input-148-afb97ddb5bd0>\"\u001b[0;36m, line \u001b[0;32m6\u001b[0m\n\u001b[0;31m    system = [Eq(11*x+6*y,70), Eq(x+y=9)]\u001b[0m\n\u001b[0m                                 ^\u001b[0m\n\u001b[0;31mSyntaxError\u001b[0m\u001b[0;31m:\u001b[0m keyword can't be an expression\n"
     ]
    }
   ],
   "source": [
    "\"\"\"\n",
    "    Resolvendo sistemas de equações\n",
    "\"\"\"\n",
    "x = Symbol('x')\n",
    "y = Symbol('y')\n",
    "system = [Eq(11*x+6*y,70), Eq(x+y=9)]\n",
    "vars = [x, y]\n",
    "nonlinsolve(system, vars)"
   ]
  },
  {
   "cell_type": "code",
   "execution_count": null,
   "metadata": {},
   "outputs": [],
   "source": []
  },
  {
   "cell_type": "code",
   "execution_count": null,
   "metadata": {},
   "outputs": [],
   "source": []
  }
 ],
 "metadata": {
  "kernelspec": {
   "display_name": "Python 3",
   "language": "python",
   "name": "python3"
  },
  "language_info": {
   "codemirror_mode": {
    "name": "ipython",
    "version": 3
   },
   "file_extension": ".py",
   "mimetype": "text/x-python",
   "name": "python",
   "nbconvert_exporter": "python",
   "pygments_lexer": "ipython3",
   "version": "3.7.3"
  }
 },
 "nbformat": 4,
 "nbformat_minor": 2
}
