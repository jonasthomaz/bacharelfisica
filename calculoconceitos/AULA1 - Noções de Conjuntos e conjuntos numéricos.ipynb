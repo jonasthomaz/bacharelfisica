{
 "cells": [
  {
   "cell_type": "code",
   "execution_count": 36,
   "metadata": {},
   "outputs": [
    {
     "name": "stdout",
     "output_type": "stream",
     "text": [
      "{1, 2, 3, 4, 5}\n"
     ]
    }
   ],
   "source": [
    "\"\"\"\n",
    "    Para para se trabalhar com conjuntos em python utilizamos um recurso builtin da linguagem, o set.\n",
    "    set segue o mesmo principio do 'conjunto' conceitual, itens unicos que não se repetem, \n",
    "    quando vc constroi o mesmo ele remove duplicados caso necessário.\n",
    "    As operações básicas de conjuntos também estão presentes na utilização de sets em Python\n",
    "    \n",
    "    Operação\tPython\tDescrição:\n",
    "    e∈S\t\t\tin \t\telemento e é membro de S\n",
    "    A⊆B\t\t\t<= \t\tA é um subconjunto de B\n",
    "    A⊂B\t\t\t< \t\tA é um subconjunto próprio de B\n",
    "    A∪B\t\t\t| \t\tA união com B\n",
    "    A∩B\t\t\t&\t\tA interseção com B\n",
    "    A∖B\t\t\t-\t\tdiferença entre A e B\n",
    "\"\"\"\n",
    "A=set({1,2,3,4,5,5}) # Observe que o mesmo elimina itens repitidos da definição de conjuntos\n",
    "print(A)"
   ]
  },
  {
   "cell_type": "code",
   "execution_count": 61,
   "metadata": {},
   "outputs": [
    {
     "name": "stdout",
     "output_type": "stream",
     "text": [
      "{1, 4, 6, 7, 8, 9}\n",
      "{1, 4, 6, 7, 8, 9}\n"
     ]
    }
   ],
   "source": [
    "\"\"\"\n",
    "    Seguindo por esta linha, vamos a lista de exercicios, e conforme coisas novas forem surgindo, vou comentando\n",
    "\"\"\"\n",
    "\n",
    "\n",
    "\"\"\"\n",
    "Sabendo que A={1,2,3,4}, B={4,5,6} e C=1,6,7,8,9}, determine o conjunto (A∩B)∪C\n",
    "\"\"\"\n",
    "A=set([1,2,3,4])\n",
    "B=set([4,5,6])\n",
    "C=set([1,6,7,8,9])\n",
    "\n",
    "# Usando operadores\n",
    "print((A&B)|C)\n",
    "\n",
    "# Usando as funcoes\n",
    "print(A.intersection(B).union(C))"
   ]
  },
  {
   "cell_type": "code",
   "execution_count": 18,
   "metadata": {},
   "outputs": [
    {
     "data": {
      "text/latex": [
       "$\\displaystyle 6 \\leq x \\wedge x < \\infty$"
      ],
      "text/plain": [
       "(6 <= x) & (x < oo)"
      ]
     },
     "execution_count": 18,
     "metadata": {},
     "output_type": "execute_result"
    }
   ],
   "source": [
    "\"\"\"\n",
    "    Em uma classe de 30 alunos, 16 gostam de Matemática e 20 gostam de História. Qual o número de alunos que gosta\n",
    "    de ambas as matérias?\n",
    "    Como pretendo resolver uma equação do segundo grau aqui,vou usar o sympy, então precisei instalar o pacote\n",
    "    com o comando abaixo:\n",
    "    !pip install sympy\n",
    "\"\"\"\n",
    "from matplotlib_venn import venn2, venn2_circles, venn2_unweighted\n",
    "from matplotlib import pyplot as plt\n",
    "from sympy import *\n",
    "from sympy.abc import x\n",
    "%matplotlib inline\n",
    "\n",
    "ttAlunos = 30\n",
    "cardMatematica = 16\n",
    "cardHistoria = 20\n",
    "\n",
    "# Para se chegar no valor da intersecção precisamos resolver uma inequação do primeiro grau:\n",
    "# (16-x) + x + (20-x) <= 30\n",
    "# x = Symbol('x')\n",
    "r = (solve([(cardMatematica-x) + x + (cardHistoria-x) <= ttAlunos], dict=True))\n",
    "r"
   ]
  },
  {
   "cell_type": "code",
   "execution_count": 22,
   "metadata": {},
   "outputs": [
    {
     "data": {
      "image/png": "[encoded data removed]",
      "text/plain": [
       "<Figure size 432x288 with 1 Axes>"
      ]
     },
     "metadata": {},
     "output_type": "display_data"
    }
   ],
   "source": [
    "# Uma vez resolvida, vemos que o minimo  valor aceitavel é 6, abaixo a representação visual.\n",
    "\n",
    "venn2(subsets = (cardMatematica,cardHistoria,6), set_labels = ('Matematica', 'História'), \n",
    "      set_colors=('purple', 'skyblue'), \n",
    "      alpha = 0.7\n",
    "     );"
   ]
  },
  {
   "cell_type": "code",
   "execution_count": null,
   "metadata": {},
   "outputs": [],
   "source": []
  },
  {
   "cell_type": "code",
   "execution_count": null,
   "metadata": {},
   "outputs": [],
   "source": []
  },
  {
   "cell_type": "code",
   "execution_count": null,
   "metadata": {},
   "outputs": [],
   "source": []
  }
 ],
 "metadata": {
  "kernelspec": {
   "display_name": "Python 3",
   "language": "python",
   "name": "python3"
  }
 },
 "nbformat": 4,
 "nbformat_minor": 2
}
